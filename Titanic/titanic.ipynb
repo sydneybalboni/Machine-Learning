{
 "cells": [
  {
   "attachments": {},
   "cell_type": "markdown",
   "metadata": {},
   "source": [
    "# Titanic Casualty Prediction"
   ]
  },
  {
   "attachments": {},
   "cell_type": "markdown",
   "metadata": {},
   "source": [
    "### Imports"
   ]
  },
  {
   "cell_type": "code",
   "execution_count": 60,
   "metadata": {},
   "outputs": [],
   "source": [
    "import pandas as pd\n",
    "from tensorflow import keras"
   ]
  },
  {
   "attachments": {},
   "cell_type": "markdown",
   "metadata": {},
   "source": [
    "### Data Preparation and Cleaning"
   ]
  },
  {
   "cell_type": "code",
   "execution_count": 61,
   "metadata": {},
   "outputs": [],
   "source": [
    "# Load data\n",
    "data = pd.read_csv(\"data\\\\train.csv\")\n",
    "test = pd.read_csv(\"data\\\\test.csv\")"
   ]
  },
  {
   "cell_type": "code",
   "execution_count": 62,
   "metadata": {},
   "outputs": [
    {
     "name": "stdout",
     "output_type": "stream",
     "text": [
      "<class 'pandas.core.frame.DataFrame'>\n",
      "RangeIndex: 891 entries, 0 to 890\n",
      "Data columns (total 13 columns):\n",
      " #   Column       Non-Null Count  Dtype  \n",
      "---  ------       --------------  -----  \n",
      " 0   PassengerId  891 non-null    int64  \n",
      " 1   Survived     891 non-null    int64  \n",
      " 2   Pclass       891 non-null    int64  \n",
      " 3   Name         891 non-null    object \n",
      " 4   Sex          891 non-null    int64  \n",
      " 5   Age          891 non-null    float64\n",
      " 6   SibSp        891 non-null    int64  \n",
      " 7   Parch        891 non-null    int64  \n",
      " 8   Ticket       891 non-null    object \n",
      " 9   Fare         891 non-null    float64\n",
      " 10  Embarked     891 non-null    int32  \n",
      " 11  Title        891 non-null    int64  \n",
      " 12  AgePeriod    891 non-null    int32  \n",
      "dtypes: float64(2), int32(2), int64(7), object(2)\n",
      "memory usage: 83.7+ KB\n"
     ]
    }
   ],
   "source": [
    "def clean(data):\n",
    "\n",
    "    # Drop the cabin column since it has lots of missing data\n",
    "    data = data.drop(['Cabin'], axis=1)\n",
    "\n",
    "    # Fill in missing data from other columns with median values\n",
    "    cols = ['SibSp', 'Parch', 'Fare', 'Age']\n",
    "    for col in cols:\n",
    "        data[col].fillna(data[col].median(), inplace=True)\n",
    "\n",
    "    # Fill in missing values using mode imputation\n",
    "    data['Embarked'] = data['Embarked'].fillna(data['Embarked'].mode().to_string())\n",
    "    data['Fare'] = data['Fare'].fillna(data['Fare'].mode().to_string())\n",
    "\n",
    "    data.loc[(data['Embarked'] != 'S')&(data['Embarked'] != 'C')&(data['Embarked'] != 'Q'), 'Embarked'] = data['Embarked'].mode()[0]\n",
    "    data['Embarked'] = data['Embarked'].map({'S':1, 'C':2, 'Q':3}).astype(int)\n",
    "\n",
    "    data['Sex'] = data['Sex'].map({'female':0, 'male':1})\n",
    "\n",
    "    data['Title'] = data['Name'].str.extract('([A-Za-z]+)\\.', expand=False)\n",
    "\n",
    "    data['Title'] = data['Title'].replace(['Rev', 'Dr', 'Col', 'Mlle', 'Major', 'Ms', 'Lady', 'Sir', 'Mme', 'Don', 'Capt', 'Countess', 'Jonkheer', 'Dona'], 'Others')\n",
    "    data['Title'] = data['Title'].map({'Mr':1, 'Miss':2, 'Mrs':3, 'Master':4, 'Others':5}) \n",
    "\n",
    "    data.loc[(data['Age'] > 0)&(data['Age'] <= 1), 'AgePeriod'] = 1\n",
    "    data.loc[(data['Age'] > 1)&(data['Age'] <= 13), 'AgePeriod'] = 2\n",
    "    data.loc[(data['Age'] > 13)&(data['Age'] <= 25), 'AgePeriod'] = 3\n",
    "    data.loc[(data['Age'] > 25)&(data['Age'] <= 61), 'AgePeriod'] = 4\n",
    "    data.loc[(data['Age'] > 61)&(data['Age'] <= 73), 'AgePeriod'] = 5\n",
    "    data.loc[(data['Age'] > 73)&(data['Age'] <= 85), 'AgePeriod'] = 6\n",
    "    data.loc[(data['Age'] > 85), 'AgePeriod'] = 7\n",
    "    data['AgePeriod'] = data['AgePeriod'].astype(int)\n",
    "\n",
    "    return data\n",
    "\n",
    "data = clean(data)\n",
    "test = clean(test)\n",
    "\n",
    "# Check for null values \n",
    "data.info()"
   ]
  },
  {
   "attachments": {},
   "cell_type": "markdown",
   "metadata": {},
   "source": [
    "### Model Experimentation"
   ]
  },
  {
   "cell_type": "code",
   "execution_count": 65,
   "metadata": {},
   "outputs": [],
   "source": [
    "# Simple DNN\n",
    "\n",
    "model = keras.Sequential()\n",
    "model.add(Dense(12, input_shape=(8,), activation='relu'))\n",
    "model.add(Dense(8, activation='relu'))\n",
    "model.add(Dense(1, activation='sigmoid'))"
   ]
  },
  {
   "cell_type": "code",
   "execution_count": null,
   "metadata": {},
   "outputs": [],
   "source": []
  }
 ],
 "metadata": {
  "kernelspec": {
   "display_name": "tf",
   "language": "python",
   "name": "python3"
  },
  "language_info": {
   "codemirror_mode": {
    "name": "ipython",
    "version": 3
   },
   "file_extension": ".py",
   "mimetype": "text/x-python",
   "name": "python",
   "nbconvert_exporter": "python",
   "pygments_lexer": "ipython3",
   "version": "3.9.15"
  },
  "orig_nbformat": 4
 },
 "nbformat": 4,
 "nbformat_minor": 2
}
